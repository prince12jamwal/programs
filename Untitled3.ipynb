{
  "metadata": {
    "kernelspec": {
      "name": "python",
      "display_name": "Python (Pyodide)",
      "language": "python"
    },
    "language_info": {
      "codemirror_mode": {
        "name": "python",
        "version": 3
      },
      "file_extension": ".py",
      "mimetype": "text/x-python",
      "name": "python",
      "nbconvert_exporter": "python",
      "pygments_lexer": "ipython3",
      "version": "3.8"
    }
  },
  "nbformat_minor": 4,
  "nbformat": 4,
  "cells": [
    {
      "cell_type": "code",
      "source": "# Import Libraries\nimport pandas as pd\nimport numpy as np\nfrom sklearn.model_selection import train_test_split\nfrom sklearn.preprocessing import LabelEncoder\nfrom sklearn.ensemble import RandomForestRegressor\nfrom sklearn.metrics import mean_absolute_error\nimport matplotlib.pyplot as plt\nimport seaborn as sns\n\n# Load Data\ndata = {\n    'Date': ['2024-07-01', '2024-07-01', '2024-07-01', '2024-07-01', '2024-07-01', \n             '2024-07-01', '2024-07-01', '2024-07-01', '2024-07-01', '2024-07-01', \n             '2024-07-01', '2024-07-01', '2024-07-01', '2024-07-01', '2024-07-01', \n             '2024-07-01', '2024-07-01', '2024-07-01', '2024-07-01'],\n    'Time': ['06:00', '09:00', '18:00', '06:00', '09:00', '18:00', '06:00', '09:00', \n             '18:00', '06:00', '06:00', '09:00', '18:00', '06:00', '09:00', '18:00', \n             '06:00', '09:00', '18:00'],\n    'Location': ['Downtown', 'Downtown', 'Downtown', 'Suburb', 'Suburb', 'Suburb', \n                 'Downtown', 'Downtown', 'Downtown', 'Suburb', 'Downtown', 'Downtown', \n                 'Downtown', 'Suburb', 'Suburb', 'Suburb', 'Downtown', 'Downtown', \n                 'Downtown'],\n    'ClassType': ['Yoga', 'Yoga', 'Yoga', 'Yoga', 'Yoga', 'Yoga', 'Spin', 'Spin', \n                  'Spin', 'Spin', 'Yoga', 'Yoga', 'Yoga', 'Yoga', 'Yoga', 'Yoga', \n                  'Spin', 'Spin', 'Spin'],\n    'Demand': ['High', 'Medium', 'High', 'Low', 'Low', 'Medium', 'High', 'Medium', \n               'High', 'Low', 'High', 'Medium', 'High', 'Low', 'Low', 'Medium', \n               'High', 'Medium', 'High'],\n    'Price': [15, 12, 18, 8, 7, 10, 20, 15, 22, 10, 16, 13, 19, 9, 8, 11, 21, 16, 23]\n}\n\ndf = pd.DataFrame(data)\n\n# Data Preprocessing\ndf['Date'] = pd.to_datetime(df['Date'])\ndf['DayOfWeek'] = df['Date'].dt.dayofweek\ndf['Time'] = df['Time'].str[:2].astype(int)\n\n# Label Encoding\nle_location = LabelEncoder()\nle_class_type = LabelEncoder()\nle_demand = LabelEncoder()\n\ndf['Location'] = le_location.fit_transform(df['Location'])\ndf['ClassType'] = le_class_type.fit_transform(df['ClassType'])\ndf['Demand'] = le_demand.fit_transform(df['Demand'])\n\n# Feature and Target Separation\nX = df[['DayOfWeek', 'Time', 'Location', 'ClassType', 'Price']]\ny = df['Demand']\n\n# Train-Test Split\nX_train, X_test, y_train, y_test = train_test_split(X, y, test_size=0.2, random_state=42)\n\n# Model Training\nmodel = RandomForestRegressor(n_estimators=100, random_state=42)\nmodel.fit(X_train, y_train)\n\n# Model Evaluation\ny_pred = model.predict(X_test)\nmae = mean_absolute_error(y_test, y_pred)\nprint(f'Mean Absolute Error: {mae}')\n\n# Feature Importance\nimportance = model.feature_importances_\nfeature_importance = pd.Series(importance, index=X.columns)\nfeature_importance.sort_values(ascending=False, inplace=True)\n\n# Plot Feature Importance\nplt.figure(figsize=(10, 6))\nsns.barplot(x=feature_importance, y=feature_importance.index)\nplt.title('Feature Importance')\nplt.show()\n\n# Demand Forecasting\nfuture_data = {\n    'DayOfWeek': [0, 0, 0],  # Example data\n    'Time': [6, 9, 18],\n    'Location': le_location.transform(['Downtown', 'Downtown', 'Downtown']),\n    'ClassType': le_class_type.transform(['Yoga', 'Yoga', 'Yoga']),\n    'Price': [15, 12, 18]\n}\n\nfuture_df = pd.DataFrame(future_data)\nfuture_demand = model.predict(future_df)\nfuture_df['PredictedDemand'] = le_demand.inverse_transform(future_demand.astype(int))\nprint(future_df)\n",
      "metadata": {
        "trusted": true
      },
      "outputs": [
        {
          "ename": "<class 'ModuleNotFoundError'>",
          "evalue": "No module named 'seaborn'",
          "traceback": [
            "\u001b[0;31m---------------------------------------------------------------------------\u001b[0m",
            "\u001b[0;31mModuleNotFoundError\u001b[0m                       Traceback (most recent call last)",
            "Cell \u001b[0;32mIn[1], line 9\u001b[0m\n\u001b[1;32m      7\u001b[0m \u001b[38;5;28;01mfrom\u001b[39;00m \u001b[38;5;21;01msklearn\u001b[39;00m\u001b[38;5;21;01m.\u001b[39;00m\u001b[38;5;21;01mmetrics\u001b[39;00m \u001b[38;5;28;01mimport\u001b[39;00m mean_absolute_error\n\u001b[1;32m      8\u001b[0m \u001b[38;5;28;01mimport\u001b[39;00m \u001b[38;5;21;01mmatplotlib\u001b[39;00m\u001b[38;5;21;01m.\u001b[39;00m\u001b[38;5;21;01mpyplot\u001b[39;00m \u001b[38;5;28;01mas\u001b[39;00m \u001b[38;5;21;01mplt\u001b[39;00m\n\u001b[0;32m----> 9\u001b[0m \u001b[38;5;28;01mimport\u001b[39;00m \u001b[38;5;21;01mseaborn\u001b[39;00m \u001b[38;5;28;01mas\u001b[39;00m \u001b[38;5;21;01msns\u001b[39;00m\n\u001b[1;32m     11\u001b[0m \u001b[38;5;66;03m# Load Data\u001b[39;00m\n\u001b[1;32m     12\u001b[0m data \u001b[38;5;241m=\u001b[39m {\n\u001b[1;32m     13\u001b[0m     \u001b[38;5;124m'\u001b[39m\u001b[38;5;124mDate\u001b[39m\u001b[38;5;124m'\u001b[39m: [\u001b[38;5;124m'\u001b[39m\u001b[38;5;124m2024-07-01\u001b[39m\u001b[38;5;124m'\u001b[39m, \u001b[38;5;124m'\u001b[39m\u001b[38;5;124m2024-07-01\u001b[39m\u001b[38;5;124m'\u001b[39m, \u001b[38;5;124m'\u001b[39m\u001b[38;5;124m2024-07-01\u001b[39m\u001b[38;5;124m'\u001b[39m, \u001b[38;5;124m'\u001b[39m\u001b[38;5;124m2024-07-01\u001b[39m\u001b[38;5;124m'\u001b[39m, \u001b[38;5;124m'\u001b[39m\u001b[38;5;124m2024-07-01\u001b[39m\u001b[38;5;124m'\u001b[39m, \n\u001b[1;32m     14\u001b[0m              \u001b[38;5;124m'\u001b[39m\u001b[38;5;124m2024-07-01\u001b[39m\u001b[38;5;124m'\u001b[39m, \u001b[38;5;124m'\u001b[39m\u001b[38;5;124m2024-07-01\u001b[39m\u001b[38;5;124m'\u001b[39m, \u001b[38;5;124m'\u001b[39m\u001b[38;5;124m2024-07-01\u001b[39m\u001b[38;5;124m'\u001b[39m, \u001b[38;5;124m'\u001b[39m\u001b[38;5;124m2024-07-01\u001b[39m\u001b[38;5;124m'\u001b[39m, \u001b[38;5;124m'\u001b[39m\u001b[38;5;124m2024-07-01\u001b[39m\u001b[38;5;124m'\u001b[39m, \n\u001b[0;32m   (...)\u001b[0m\n\u001b[1;32m     30\u001b[0m     \u001b[38;5;124m'\u001b[39m\u001b[38;5;124mPrice\u001b[39m\u001b[38;5;124m'\u001b[39m: [\u001b[38;5;241m15\u001b[39m, \u001b[38;5;241m12\u001b[39m, \u001b[38;5;241m18\u001b[39m, \u001b[38;5;241m8\u001b[39m, \u001b[38;5;241m7\u001b[39m, \u001b[38;5;241m10\u001b[39m, \u001b[38;5;241m20\u001b[39m, \u001b[38;5;241m15\u001b[39m, \u001b[38;5;241m22\u001b[39m, \u001b[38;5;241m10\u001b[39m, \u001b[38;5;241m16\u001b[39m, \u001b[38;5;241m13\u001b[39m, \u001b[38;5;241m19\u001b[39m, \u001b[38;5;241m9\u001b[39m, \u001b[38;5;241m8\u001b[39m, \u001b[38;5;241m11\u001b[39m, \u001b[38;5;241m21\u001b[39m, \u001b[38;5;241m16\u001b[39m, \u001b[38;5;241m23\u001b[39m]\n\u001b[1;32m     31\u001b[0m }\n",
            "\u001b[0;31mModuleNotFoundError\u001b[0m: No module named 'seaborn'"
          ],
          "output_type": "error"
        }
      ],
      "execution_count": 1
    },
    {
      "cell_type": "code",
      "source": "",
      "metadata": {
        "trusted": true
      },
      "outputs": [],
      "execution_count": null
    }
  ]
}