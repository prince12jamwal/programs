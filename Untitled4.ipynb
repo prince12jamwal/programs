{
  "metadata": {
    "kernelspec": {
      "name": "python",
      "display_name": "Python (Pyodide)",
      "language": "python"
    },
    "language_info": {
      "codemirror_mode": {
        "name": "python",
        "version": 3
      },
      "file_extension": ".py",
      "mimetype": "text/x-python",
      "name": "python",
      "nbconvert_exporter": "python",
      "pygments_lexer": "ipython3",
      "version": "3.8"
    }
  },
  "nbformat_minor": 4,
  "nbformat": 4,
  "cells": [
    {
      "cell_type": "code",
      "source": "def calculate_dynamic_price(base_price, demand, location, time):\n    # Demand adjustment\n    if demand == 'High':\n        price = base_price * 1.20\n    elif demand == 'Medium':\n        price = base_price\n    else:  # Low demand\n        price = base_price * 0.80\n\n    # Location adjustment\n    if location == 'Downtown':\n        price *= 1.10\n\n    # Time adjustment\n    if time in ['06:00', '18:00']:\n        price *= 1.10\n    elif time == '09:00':\n        price *= 0.90\n\n    # Round price\n    price = round(price)\n\n    return price\n\n# Example usage\nbase_prices = {'Yoga': 10, 'Spin': 15, 'HIIT': 12}\nclasses = [\n    ('2024-07-01', '06:00', 'Downtown', 'Yoga', 'High'),\n    ('2024-07-01', '09:00', 'Downtown', 'Yoga', 'Medium'),\n    ('2024-07-01', '18:00', 'Downtown', 'Spin', 'High')\n]\n\nfor class_info in classes:\n    date, time, location, class_type, demand = class_info\n    base_price = base_prices[class_type]\n    dynamic_price = calculate_dynamic_price(base_price, demand, location, time)\n    print(f\"{date}, {time}, {location}, {class_type}, {demand}, {dynamic_price}\")\n",
      "metadata": {
        "trusted": true
      },
      "outputs": [
        {
          "name": "stdout",
          "text": "2024-07-01, 06:00, Downtown, Yoga, High, 15\n2024-07-01, 09:00, Downtown, Yoga, Medium, 10\n2024-07-01, 18:00, Downtown, Spin, High, 22\n",
          "output_type": "stream"
        }
      ],
      "execution_count": 1
    },
    {
      "cell_type": "code",
      "source": "",
      "metadata": {
        "trusted": true
      },
      "outputs": [],
      "execution_count": null
    }
  ]
}